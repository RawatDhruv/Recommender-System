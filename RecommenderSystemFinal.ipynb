{
 "cells": [
  {
   "cell_type": "code",
   "execution_count": 1,
   "id": "33327901",
   "metadata": {},
   "outputs": [],
   "source": [
    "import numpy as np\n",
    "import pandas as pd\n",
    "import math\n",
    "import matplotlib.pyplot as plt\n",
    "import demoMF \n",
    "#import dask.dataframe as dd\n",
    "#from sklearn.utils.extmath import randomized_svd\n",
    "#from sklearn.decomposition import TruncatedSVD"
   ]
  },
  {
   "cell_type": "code",
   "execution_count": 2,
   "id": "47cdc833",
   "metadata": {},
   "outputs": [],
   "source": [
    "# = \"ml-25m/genome-scores.csv\"\n",
    "#gtpat\n",
    "#h = \"ml-25m/genome-tags.csv\"\n",
    "#path_tags = 'ml-/tags.csv'\n",
    "path_ratings = 'ml-latest-small/ratings.csv'\n",
    "path_movies = 'ml-latest-small/movies.csv'"
   ]
  },
  {
   "cell_type": "code",
   "execution_count": 3,
   "id": "bb26ecd4",
   "metadata": {},
   "outputs": [],
   "source": [
    "#df_gscore = dd.read_csv(gspath)\n",
    "#df_gtag = dd.read_csv(gtpath)\n",
    "#df_tags = pd.read_csv(path_tags)\n",
    "rating_df = pd.read_csv(path_ratings)\n",
    "movie_df = pd.read_csv(path_movies)"
   ]
  },
  {
   "cell_type": "code",
   "execution_count": 4,
   "id": "c3cd9a04",
   "metadata": {},
   "outputs": [],
   "source": [
    "combine_movie_rating = pd.merge(rating_df, movie_df, on='movieId')"
   ]
  },
  {
   "cell_type": "code",
   "execution_count": 5,
   "id": "f71d065a",
   "metadata": {},
   "outputs": [
    {
     "data": {
      "text/html": [
       "<div>\n",
       "<style scoped>\n",
       "    .dataframe tbody tr th:only-of-type {\n",
       "        vertical-align: middle;\n",
       "    }\n",
       "\n",
       "    .dataframe tbody tr th {\n",
       "        vertical-align: top;\n",
       "    }\n",
       "\n",
       "    .dataframe thead th {\n",
       "        text-align: right;\n",
       "    }\n",
       "</style>\n",
       "<table border=\"1\" class=\"dataframe\">\n",
       "  <thead>\n",
       "    <tr style=\"text-align: right;\">\n",
       "      <th></th>\n",
       "      <th>userId</th>\n",
       "      <th>movieId</th>\n",
       "      <th>rating</th>\n",
       "      <th>title</th>\n",
       "    </tr>\n",
       "  </thead>\n",
       "  <tbody>\n",
       "    <tr>\n",
       "      <th>0</th>\n",
       "      <td>1</td>\n",
       "      <td>31</td>\n",
       "      <td>2.5</td>\n",
       "      <td>Dangerous Minds (1995)</td>\n",
       "    </tr>\n",
       "    <tr>\n",
       "      <th>1</th>\n",
       "      <td>7</td>\n",
       "      <td>31</td>\n",
       "      <td>3.0</td>\n",
       "      <td>Dangerous Minds (1995)</td>\n",
       "    </tr>\n",
       "    <tr>\n",
       "      <th>2</th>\n",
       "      <td>31</td>\n",
       "      <td>31</td>\n",
       "      <td>4.0</td>\n",
       "      <td>Dangerous Minds (1995)</td>\n",
       "    </tr>\n",
       "    <tr>\n",
       "      <th>3</th>\n",
       "      <td>32</td>\n",
       "      <td>31</td>\n",
       "      <td>4.0</td>\n",
       "      <td>Dangerous Minds (1995)</td>\n",
       "    </tr>\n",
       "    <tr>\n",
       "      <th>4</th>\n",
       "      <td>36</td>\n",
       "      <td>31</td>\n",
       "      <td>3.0</td>\n",
       "      <td>Dangerous Minds (1995)</td>\n",
       "    </tr>\n",
       "    <tr>\n",
       "      <th>5</th>\n",
       "      <td>39</td>\n",
       "      <td>31</td>\n",
       "      <td>3.0</td>\n",
       "      <td>Dangerous Minds (1995)</td>\n",
       "    </tr>\n",
       "    <tr>\n",
       "      <th>6</th>\n",
       "      <td>73</td>\n",
       "      <td>31</td>\n",
       "      <td>3.5</td>\n",
       "      <td>Dangerous Minds (1995)</td>\n",
       "    </tr>\n",
       "    <tr>\n",
       "      <th>7</th>\n",
       "      <td>88</td>\n",
       "      <td>31</td>\n",
       "      <td>3.0</td>\n",
       "      <td>Dangerous Minds (1995)</td>\n",
       "    </tr>\n",
       "    <tr>\n",
       "      <th>8</th>\n",
       "      <td>96</td>\n",
       "      <td>31</td>\n",
       "      <td>2.5</td>\n",
       "      <td>Dangerous Minds (1995)</td>\n",
       "    </tr>\n",
       "    <tr>\n",
       "      <th>9</th>\n",
       "      <td>110</td>\n",
       "      <td>31</td>\n",
       "      <td>4.0</td>\n",
       "      <td>Dangerous Minds (1995)</td>\n",
       "    </tr>\n",
       "  </tbody>\n",
       "</table>\n",
       "</div>"
      ],
      "text/plain": [
       "   userId  movieId  rating                   title\n",
       "0       1       31     2.5  Dangerous Minds (1995)\n",
       "1       7       31     3.0  Dangerous Minds (1995)\n",
       "2      31       31     4.0  Dangerous Minds (1995)\n",
       "3      32       31     4.0  Dangerous Minds (1995)\n",
       "4      36       31     3.0  Dangerous Minds (1995)\n",
       "5      39       31     3.0  Dangerous Minds (1995)\n",
       "6      73       31     3.5  Dangerous Minds (1995)\n",
       "7      88       31     3.0  Dangerous Minds (1995)\n",
       "8      96       31     2.5  Dangerous Minds (1995)\n",
       "9     110       31     4.0  Dangerous Minds (1995)"
      ]
     },
     "execution_count": 5,
     "metadata": {},
     "output_type": "execute_result"
    }
   ],
   "source": [
    "columns = ['timestamp', 'genres']\n",
    "combine_movie_rating = combine_movie_rating.drop(columns, axis=1)\n",
    "combine_movie_rating.head(10)"
   ]
  },
  {
   "cell_type": "code",
   "execution_count": 6,
   "id": "3424cf7c",
   "metadata": {},
   "outputs": [],
   "source": [
    "movie_ratingCount = (combine_movie_rating.\n",
    "     groupby(by = ['movieId'])['rating'].\n",
    "     count().\n",
    "     reset_index().\n",
    "     rename(columns = {'rating': 'totalRatingCount'})\n",
    "     [['movieId', 'totalRatingCount']]\n",
    "    )"
   ]
  },
  {
   "cell_type": "code",
   "execution_count": 7,
   "id": "b567f937",
   "metadata": {},
   "outputs": [],
   "source": [
    "rating_with_totalRatingCount = combine_movie_rating.merge(movie_ratingCount, left_on = 'movieId', right_on = 'movieId', how = 'left')"
   ]
  },
  {
   "cell_type": "code",
   "execution_count": 8,
   "id": "9727f1d3",
   "metadata": {},
   "outputs": [],
   "source": [
    "user_rating = rating_with_totalRatingCount.drop_duplicates(['userId','movieId'])"
   ]
  },
  {
   "cell_type": "code",
   "execution_count": 9,
   "id": "2ee07aed",
   "metadata": {},
   "outputs": [],
   "source": [
    "movie_user_rating_pivot = user_rating.pivot(index = 'userId', columns = 'movieId', values = 'rating').fillna(0)"
   ]
  },
  {
   "cell_type": "code",
   "execution_count": 10,
   "id": "4bffcf50",
   "metadata": {},
   "outputs": [
    {
     "data": {
      "text/html": [
       "<div>\n",
       "<style scoped>\n",
       "    .dataframe tbody tr th:only-of-type {\n",
       "        vertical-align: middle;\n",
       "    }\n",
       "\n",
       "    .dataframe tbody tr th {\n",
       "        vertical-align: top;\n",
       "    }\n",
       "\n",
       "    .dataframe thead th {\n",
       "        text-align: right;\n",
       "    }\n",
       "</style>\n",
       "<table border=\"1\" class=\"dataframe\">\n",
       "  <thead>\n",
       "    <tr style=\"text-align: right;\">\n",
       "      <th>movieId</th>\n",
       "      <th>1</th>\n",
       "      <th>2</th>\n",
       "      <th>3</th>\n",
       "      <th>4</th>\n",
       "      <th>5</th>\n",
       "      <th>6</th>\n",
       "      <th>7</th>\n",
       "      <th>8</th>\n",
       "      <th>9</th>\n",
       "      <th>10</th>\n",
       "      <th>...</th>\n",
       "      <th>161084</th>\n",
       "      <th>161155</th>\n",
       "      <th>161594</th>\n",
       "      <th>161830</th>\n",
       "      <th>161918</th>\n",
       "      <th>161944</th>\n",
       "      <th>162376</th>\n",
       "      <th>162542</th>\n",
       "      <th>162672</th>\n",
       "      <th>163949</th>\n",
       "    </tr>\n",
       "    <tr>\n",
       "      <th>userId</th>\n",
       "      <th></th>\n",
       "      <th></th>\n",
       "      <th></th>\n",
       "      <th></th>\n",
       "      <th></th>\n",
       "      <th></th>\n",
       "      <th></th>\n",
       "      <th></th>\n",
       "      <th></th>\n",
       "      <th></th>\n",
       "      <th></th>\n",
       "      <th></th>\n",
       "      <th></th>\n",
       "      <th></th>\n",
       "      <th></th>\n",
       "      <th></th>\n",
       "      <th></th>\n",
       "      <th></th>\n",
       "      <th></th>\n",
       "      <th></th>\n",
       "      <th></th>\n",
       "    </tr>\n",
       "  </thead>\n",
       "  <tbody>\n",
       "    <tr>\n",
       "      <th>1</th>\n",
       "      <td>0.0</td>\n",
       "      <td>0.0</td>\n",
       "      <td>0.0</td>\n",
       "      <td>0.0</td>\n",
       "      <td>0.0</td>\n",
       "      <td>0.0</td>\n",
       "      <td>0.0</td>\n",
       "      <td>0.0</td>\n",
       "      <td>0.0</td>\n",
       "      <td>0.0</td>\n",
       "      <td>...</td>\n",
       "      <td>0.0</td>\n",
       "      <td>0.0</td>\n",
       "      <td>0.0</td>\n",
       "      <td>0.0</td>\n",
       "      <td>0.0</td>\n",
       "      <td>0.0</td>\n",
       "      <td>0.0</td>\n",
       "      <td>0.0</td>\n",
       "      <td>0.0</td>\n",
       "      <td>0.0</td>\n",
       "    </tr>\n",
       "    <tr>\n",
       "      <th>2</th>\n",
       "      <td>0.0</td>\n",
       "      <td>0.0</td>\n",
       "      <td>0.0</td>\n",
       "      <td>0.0</td>\n",
       "      <td>0.0</td>\n",
       "      <td>0.0</td>\n",
       "      <td>0.0</td>\n",
       "      <td>0.0</td>\n",
       "      <td>0.0</td>\n",
       "      <td>4.0</td>\n",
       "      <td>...</td>\n",
       "      <td>0.0</td>\n",
       "      <td>0.0</td>\n",
       "      <td>0.0</td>\n",
       "      <td>0.0</td>\n",
       "      <td>0.0</td>\n",
       "      <td>0.0</td>\n",
       "      <td>0.0</td>\n",
       "      <td>0.0</td>\n",
       "      <td>0.0</td>\n",
       "      <td>0.0</td>\n",
       "    </tr>\n",
       "    <tr>\n",
       "      <th>3</th>\n",
       "      <td>0.0</td>\n",
       "      <td>0.0</td>\n",
       "      <td>0.0</td>\n",
       "      <td>0.0</td>\n",
       "      <td>0.0</td>\n",
       "      <td>0.0</td>\n",
       "      <td>0.0</td>\n",
       "      <td>0.0</td>\n",
       "      <td>0.0</td>\n",
       "      <td>0.0</td>\n",
       "      <td>...</td>\n",
       "      <td>0.0</td>\n",
       "      <td>0.0</td>\n",
       "      <td>0.0</td>\n",
       "      <td>0.0</td>\n",
       "      <td>0.0</td>\n",
       "      <td>0.0</td>\n",
       "      <td>0.0</td>\n",
       "      <td>0.0</td>\n",
       "      <td>0.0</td>\n",
       "      <td>0.0</td>\n",
       "    </tr>\n",
       "    <tr>\n",
       "      <th>4</th>\n",
       "      <td>0.0</td>\n",
       "      <td>0.0</td>\n",
       "      <td>0.0</td>\n",
       "      <td>0.0</td>\n",
       "      <td>0.0</td>\n",
       "      <td>0.0</td>\n",
       "      <td>0.0</td>\n",
       "      <td>0.0</td>\n",
       "      <td>0.0</td>\n",
       "      <td>4.0</td>\n",
       "      <td>...</td>\n",
       "      <td>0.0</td>\n",
       "      <td>0.0</td>\n",
       "      <td>0.0</td>\n",
       "      <td>0.0</td>\n",
       "      <td>0.0</td>\n",
       "      <td>0.0</td>\n",
       "      <td>0.0</td>\n",
       "      <td>0.0</td>\n",
       "      <td>0.0</td>\n",
       "      <td>0.0</td>\n",
       "    </tr>\n",
       "    <tr>\n",
       "      <th>5</th>\n",
       "      <td>0.0</td>\n",
       "      <td>0.0</td>\n",
       "      <td>4.0</td>\n",
       "      <td>0.0</td>\n",
       "      <td>0.0</td>\n",
       "      <td>0.0</td>\n",
       "      <td>0.0</td>\n",
       "      <td>0.0</td>\n",
       "      <td>0.0</td>\n",
       "      <td>0.0</td>\n",
       "      <td>...</td>\n",
       "      <td>0.0</td>\n",
       "      <td>0.0</td>\n",
       "      <td>0.0</td>\n",
       "      <td>0.0</td>\n",
       "      <td>0.0</td>\n",
       "      <td>0.0</td>\n",
       "      <td>0.0</td>\n",
       "      <td>0.0</td>\n",
       "      <td>0.0</td>\n",
       "      <td>0.0</td>\n",
       "    </tr>\n",
       "  </tbody>\n",
       "</table>\n",
       "<p>5 rows × 9066 columns</p>\n",
       "</div>"
      ],
      "text/plain": [
       "movieId  1       2       3       4       5       6       7       8       \\\n",
       "userId                                                                    \n",
       "1           0.0     0.0     0.0     0.0     0.0     0.0     0.0     0.0   \n",
       "2           0.0     0.0     0.0     0.0     0.0     0.0     0.0     0.0   \n",
       "3           0.0     0.0     0.0     0.0     0.0     0.0     0.0     0.0   \n",
       "4           0.0     0.0     0.0     0.0     0.0     0.0     0.0     0.0   \n",
       "5           0.0     0.0     4.0     0.0     0.0     0.0     0.0     0.0   \n",
       "\n",
       "movieId  9       10      ...  161084  161155  161594  161830  161918  161944  \\\n",
       "userId                   ...                                                   \n",
       "1           0.0     0.0  ...     0.0     0.0     0.0     0.0     0.0     0.0   \n",
       "2           0.0     4.0  ...     0.0     0.0     0.0     0.0     0.0     0.0   \n",
       "3           0.0     0.0  ...     0.0     0.0     0.0     0.0     0.0     0.0   \n",
       "4           0.0     4.0  ...     0.0     0.0     0.0     0.0     0.0     0.0   \n",
       "5           0.0     0.0  ...     0.0     0.0     0.0     0.0     0.0     0.0   \n",
       "\n",
       "movieId  162376  162542  162672  163949  \n",
       "userId                                   \n",
       "1           0.0     0.0     0.0     0.0  \n",
       "2           0.0     0.0     0.0     0.0  \n",
       "3           0.0     0.0     0.0     0.0  \n",
       "4           0.0     0.0     0.0     0.0  \n",
       "5           0.0     0.0     0.0     0.0  \n",
       "\n",
       "[5 rows x 9066 columns]"
      ]
     },
     "execution_count": 10,
     "metadata": {},
     "output_type": "execute_result"
    }
   ],
   "source": [
    "movie_user_rating_pivot.to_csv(\"D:\\Kaggle\\VS\\Git\\Recommender-System\\RecommenderPivot.csv\")\n",
    "movie_user_rating_pivot.head()"
   ]
  },
  {
   "cell_type": "code",
   "execution_count": 11,
   "id": "5cc92df6",
   "metadata": {},
   "outputs": [
    {
     "data": {
      "text/plain": [
       "(671, 9066)"
      ]
     },
     "execution_count": 11,
     "metadata": {},
     "output_type": "execute_result"
    }
   ],
   "source": [
    "X = movie_user_rating_pivot.values\n",
    "dim = movie_user_rating_pivot.shape\n",
    "dim"
   ]
  },
  {
   "cell_type": "code",
   "execution_count": 12,
   "id": "d779f49a",
   "metadata": {},
   "outputs": [],
   "source": [
    "objMF = demoMF.ExplicitMF(X,60,0.1,0.1,verbose=True)"
   ]
  },
  {
   "cell_type": "code",
   "execution_count": 13,
   "id": "7ff5d515",
   "metadata": {},
   "outputs": [],
   "source": [
    "objMF.train(2)"
   ]
  },
  {
   "cell_type": "code",
   "execution_count": 14,
   "id": "39f63b8d",
   "metadata": {},
   "outputs": [
    {
     "data": {
      "text/plain": [
       "(9066, 60)"
      ]
     },
     "execution_count": 14,
     "metadata": {},
     "output_type": "execute_result"
    }
   ],
   "source": [
    "U = objMF.user_vecs\n",
    "V = objMF.item_vecs\n",
    "V.shape"
   ]
  },
  {
   "cell_type": "code",
   "execution_count": 15,
   "id": "6c1ddb73",
   "metadata": {},
   "outputs": [],
   "source": [
    "matrix = V\n",
    "corr = np.corrcoef(matrix)\n",
    "#corr = pd.DataFrame(corr)\n",
    "#corr.to_csv(\"D:\\Kaggle\\VS\\Git\\Recommender-System\\Recommendercorr.csv\", index= False)"
   ]
  },
  {
   "cell_type": "code",
   "execution_count": null,
   "id": "7fb4873e",
   "metadata": {},
   "outputs": [],
   "source": []
  },
  {
   "cell_type": "code",
   "execution_count": 16,
   "id": "984c893e",
   "metadata": {},
   "outputs": [],
   "source": [
    "#movie_title = movie_user_rating_pivot.columns\n",
    "#movie_title_list = list(movie_title)\n",
    "movie_ids = movie_user_rating_pivot.columns\n",
    "movie_ids_list = list(movie_ids)"
   ]
  },
  {
   "cell_type": "code",
   "execution_count": 17,
   "id": "2605f93f",
   "metadata": {},
   "outputs": [],
   "source": [
    "coffey_hands = movie_ids_list.index(1)"
   ]
  },
  {
   "cell_type": "code",
   "execution_count": 18,
   "id": "bc4599fa",
   "metadata": {},
   "outputs": [],
   "source": [
    "corr_coffey_hands  = list(corr[coffey_hands])\n",
    "movie_ids = list(movie_ids)\n",
    "#movie_title = list(movie_ids)\n",
    "#corr_coffey_hands[:10]"
   ]
  },
  {
   "cell_type": "code",
   "execution_count": 19,
   "id": "06b6c3e1",
   "metadata": {},
   "outputs": [],
   "source": [
    "from stopwatch import Stopwatch\n",
    "watch = Stopwatch()"
   ]
  },
  {
   "cell_type": "code",
   "execution_count": 20,
   "id": "833475e4",
   "metadata": {},
   "outputs": [],
   "source": [
    "import random\n",
    " \n",
    "def kthSmallest(arr, l, r, k):\n",
    "    \n",
    "    if (k > 0 and k <= r - l + 1):\n",
    "        pos = randomPartition(arr, l, r)\n",
    " \n",
    "        if (pos - l == k - 1):\n",
    "            return arr[pos]\n",
    "        if (pos - l > k - 1): \n",
    "            return kthSmallest(arr, l, pos - 1, k)\n",
    " \n",
    "        return kthSmallest(arr, pos + 1, r,\n",
    "                        k - pos + l - 1)\n",
    " \n",
    "    return 999999999999\n",
    " \n",
    "def swap(arr, a, b):\n",
    "    temp = arr[a]\n",
    "    arr[a] = arr[b]\n",
    "    arr[b] = temp\n",
    " \n",
    "def partition(arr, l, r):\n",
    "    x = arr[r]\n",
    "    i = l\n",
    "    for j in range(l, r):\n",
    "        if (arr[j] >= x):\n",
    "            swap(arr, i, j)\n",
    "            swap(movie_ids, i ,j)\n",
    "            i += 1\n",
    "    swap(arr, i, r)\n",
    "    swap(movie_ids, i ,r)\n",
    "    return i\n",
    "def randomPartition(arr, l, r):\n",
    "    n = r - l + 1\n",
    "    pivot = int(random.random() * n)\n",
    "    swap(arr, l + pivot, r)\n",
    "    swap(movie_ids, l + pivot, r)\n",
    "    return partition(arr, l, r)"
   ]
  },
  {
   "cell_type": "code",
   "execution_count": 21,
   "id": "737c73bc",
   "metadata": {},
   "outputs": [
    {
     "data": {
      "text/plain": [
       "0.0018082999999933236"
      ]
     },
     "execution_count": 21,
     "metadata": {},
     "output_type": "execute_result"
    }
   ],
   "source": [
    "k = 10\n",
    "n_corr = len(corr_coffey_hands)-1\n",
    "watch.reset()\n",
    "watch.start()\n",
    "selected = kthSmallest(corr_coffey_hands, 0, n_corr - 1, k)\n",
    "watch.stop()\n",
    "watch.duration"
   ]
  },
  {
   "cell_type": "code",
   "execution_count": 22,
   "id": "4a0e981c",
   "metadata": {},
   "outputs": [],
   "source": [
    "def quicksort(arr, start , stop):\n",
    "    if(start < stop):\n",
    "        pivotindex = partitionrand(arr, start, stop)\n",
    "        quicksort(arr , start , pivotindex-1)\n",
    "        quicksort(arr, pivotindex + 1, stop)\n",
    "        \n",
    "def partitionrand(arr , start, stop):\n",
    "    randpivot = random.randrange(start, stop)\n",
    "    arr[start], arr[randpivot] = arr[randpivot], arr[start]\n",
    "    selected_movie_ids[start], selected_movie_ids[randpivot] = selected_movie_ids[randpivot], selected_movie_ids[start]\n",
    "    return partition(arr, start, stop)\n",
    "\n",
    "def partition(arr,start,stop):\n",
    "    pivot = start\n",
    "    i = start + 1\n",
    "    for j in range(start + 1, stop + 1):\n",
    "        if arr[j] <= arr[pivot]:\n",
    "            arr[i] , arr[j] = arr[j] , arr[i]\n",
    "            selected_movie_ids[i] , selected_movie_ids[j] = selected_movie_ids[j] , selected_movie_ids[i]\n",
    "            i = i + 1\n",
    "    arr[pivot] , arr[i - 1] = arr[i - 1] , arr[pivot]\n",
    "    selected_movie_ids[pivot] , selected_movie_ids[i - 1] = selected_movie_ids[i - 1] , selected_movie_ids[pivot]\n",
    "    pivot = i - 1\n",
    "    return (pivot)"
   ]
  },
  {
   "cell_type": "code",
   "execution_count": 23,
   "id": "e291b5f5",
   "metadata": {},
   "outputs": [],
   "source": [
    "selected_corr = corr_coffey_hands[:k]\n",
    "selected_movie_ids = movie_ids[:k]"
   ]
  },
  {
   "cell_type": "code",
   "execution_count": 24,
   "id": "f92d3a7e",
   "metadata": {},
   "outputs": [
    {
     "data": {
      "text/plain": [
       "7.189999999468455e-05"
      ]
     },
     "execution_count": 24,
     "metadata": {},
     "output_type": "execute_result"
    }
   ],
   "source": [
    "watch.reset()\n",
    "watch.start()\n",
    "quicksort(selected_corr, 0, len(selected_corr) - 1)\n",
    "watch.stop()\n",
    "watch.duration"
   ]
  },
  {
   "cell_type": "code",
   "execution_count": 25,
   "id": "01145fd5",
   "metadata": {},
   "outputs": [
    {
     "data": {
      "text/plain": [
       "[4306, 364, 8961, 356, 1073, 260, 2355, 780, 3114, 1]"
      ]
     },
     "execution_count": 25,
     "metadata": {},
     "output_type": "execute_result"
    }
   ],
   "source": [
    "selected_movie_ids"
   ]
  },
  {
   "cell_type": "code",
   "execution_count": null,
   "id": "082a4a62",
   "metadata": {},
   "outputs": [],
   "source": [
    "'''\n",
    "watch.reset()\n",
    "watch.start()\n",
    "k = 100\n",
    "n_corr = len(corr_coffey_hands)-1\n",
    "for i in range(n_corr, n_corr-k,-1):\n",
    "    mx = 0\n",
    "    for j in range(i+1):\n",
    "        if (corr_coffey_hands[j]>=corr_coffey_hands[mx]):\n",
    "            mx = j\n",
    "    corr_coffey_hands[mx], corr_coffey_hands[i] = corr_coffey_hands[i], corr_coffey_hands[mx]\n",
    "    #movie_ids[mx], movie_ids[i] = movie_ids[i], movie_ids[mx]\n",
    "watch.stop()\n",
    "watch.duration\n",
    "'''"
   ]
  },
  {
   "cell_type": "code",
   "execution_count": null,
   "id": "b2709fdf",
   "metadata": {},
   "outputs": [],
   "source": [
    "#movie_ids[n_corr-10:n_corr]"
   ]
  },
  {
   "cell_type": "code",
   "execution_count": null,
   "id": "18fc0ff8",
   "metadata": {},
   "outputs": [],
   "source": []
  },
  {
   "cell_type": "code",
   "execution_count": null,
   "id": "0c1bb8ea",
   "metadata": {},
   "outputs": [],
   "source": []
  }
 ],
 "metadata": {
  "kernelspec": {
   "display_name": "Python 3 (ipykernel)",
   "language": "python",
   "name": "python3"
  },
  "language_info": {
   "codemirror_mode": {
    "name": "ipython",
    "version": 3
   },
   "file_extension": ".py",
   "mimetype": "text/x-python",
   "name": "python",
   "nbconvert_exporter": "python",
   "pygments_lexer": "ipython3",
   "version": "3.8.8"
  }
 },
 "nbformat": 4,
 "nbformat_minor": 5
}
