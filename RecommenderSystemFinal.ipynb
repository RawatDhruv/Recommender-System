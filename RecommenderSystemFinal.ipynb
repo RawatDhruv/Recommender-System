{
 "cells": [
  {
   "cell_type": "code",
   "execution_count": 1,
   "id": "33327901",
   "metadata": {},
   "outputs": [],
   "source": [
    "import numpy as np\n",
    "import pandas as pd\n",
    "import math\n",
    "import matplotlib.pyplot as plt\n",
    "import demoMF \n",
    "#import dask.dataframe as dd\n",
    "#from sklearn.utils.extmath import randomized_svd\n",
    "#from sklearn.decomposition import TruncatedSVD"
   ]
  },
  {
   "cell_type": "code",
   "execution_count": 6,
   "id": "47cdc833",
   "metadata": {},
   "outputs": [],
   "source": [
    "# = \"ml-25m/genome-scores.csv\"\n",
    "#gtpath = \"ml-25m/genome-tags.csv\"\n",
    "#path_tags = 'ml-/tags.csv'\n",
    "path_ratings = 'ml-latest-small/ratings.csv'\n",
    "path_movies = 'ml-latest-small/movies.csv'"
   ]
  },
  {
   "cell_type": "code",
   "execution_count": 7,
   "id": "bb26ecd4",
   "metadata": {},
   "outputs": [],
   "source": [
    "#df_gscore = dd.read_csv(gspath)\n",
    "#df_gtag = dd.read_csv(gtpath)\n",
    "#df_tags = pd.read_csv(path_tags)\n",
    "rating_df = pd.read_csv(path_ratings)\n",
    "movie_df = pd.read_csv(path_movies)"
   ]
  },
  {
   "cell_type": "code",
   "execution_count": 8,
   "id": "c3cd9a04",
   "metadata": {},
   "outputs": [],
   "source": [
    "combine_movie_rating = pd.merge(rating_df, movie_df, on='movieId')"
   ]
  },
  {
   "cell_type": "code",
   "execution_count": 10,
   "id": "f71d065a",
   "metadata": {},
   "outputs": [
    {
     "data": {
      "text/html": [
       "<div>\n",
       "<style scoped>\n",
       "    .dataframe tbody tr th:only-of-type {\n",
       "        vertical-align: middle;\n",
       "    }\n",
       "\n",
       "    .dataframe tbody tr th {\n",
       "        vertical-align: top;\n",
       "    }\n",
       "\n",
       "    .dataframe thead th {\n",
       "        text-align: right;\n",
       "    }\n",
       "</style>\n",
       "<table border=\"1\" class=\"dataframe\">\n",
       "  <thead>\n",
       "    <tr style=\"text-align: right;\">\n",
       "      <th></th>\n",
       "      <th>userId</th>\n",
       "      <th>movieId</th>\n",
       "      <th>rating</th>\n",
       "      <th>title</th>\n",
       "    </tr>\n",
       "  </thead>\n",
       "  <tbody>\n",
       "    <tr>\n",
       "      <th>0</th>\n",
       "      <td>1</td>\n",
       "      <td>31</td>\n",
       "      <td>2.5</td>\n",
       "      <td>Dangerous Minds (1995)</td>\n",
       "    </tr>\n",
       "    <tr>\n",
       "      <th>1</th>\n",
       "      <td>7</td>\n",
       "      <td>31</td>\n",
       "      <td>3.0</td>\n",
       "      <td>Dangerous Minds (1995)</td>\n",
       "    </tr>\n",
       "    <tr>\n",
       "      <th>2</th>\n",
       "      <td>31</td>\n",
       "      <td>31</td>\n",
       "      <td>4.0</td>\n",
       "      <td>Dangerous Minds (1995)</td>\n",
       "    </tr>\n",
       "    <tr>\n",
       "      <th>3</th>\n",
       "      <td>32</td>\n",
       "      <td>31</td>\n",
       "      <td>4.0</td>\n",
       "      <td>Dangerous Minds (1995)</td>\n",
       "    </tr>\n",
       "    <tr>\n",
       "      <th>4</th>\n",
       "      <td>36</td>\n",
       "      <td>31</td>\n",
       "      <td>3.0</td>\n",
       "      <td>Dangerous Minds (1995)</td>\n",
       "    </tr>\n",
       "    <tr>\n",
       "      <th>5</th>\n",
       "      <td>39</td>\n",
       "      <td>31</td>\n",
       "      <td>3.0</td>\n",
       "      <td>Dangerous Minds (1995)</td>\n",
       "    </tr>\n",
       "    <tr>\n",
       "      <th>6</th>\n",
       "      <td>73</td>\n",
       "      <td>31</td>\n",
       "      <td>3.5</td>\n",
       "      <td>Dangerous Minds (1995)</td>\n",
       "    </tr>\n",
       "    <tr>\n",
       "      <th>7</th>\n",
       "      <td>88</td>\n",
       "      <td>31</td>\n",
       "      <td>3.0</td>\n",
       "      <td>Dangerous Minds (1995)</td>\n",
       "    </tr>\n",
       "    <tr>\n",
       "      <th>8</th>\n",
       "      <td>96</td>\n",
       "      <td>31</td>\n",
       "      <td>2.5</td>\n",
       "      <td>Dangerous Minds (1995)</td>\n",
       "    </tr>\n",
       "    <tr>\n",
       "      <th>9</th>\n",
       "      <td>110</td>\n",
       "      <td>31</td>\n",
       "      <td>4.0</td>\n",
       "      <td>Dangerous Minds (1995)</td>\n",
       "    </tr>\n",
       "  </tbody>\n",
       "</table>\n",
       "</div>"
      ],
      "text/plain": [
       "   userId  movieId  rating                   title\n",
       "0       1       31     2.5  Dangerous Minds (1995)\n",
       "1       7       31     3.0  Dangerous Minds (1995)\n",
       "2      31       31     4.0  Dangerous Minds (1995)\n",
       "3      32       31     4.0  Dangerous Minds (1995)\n",
       "4      36       31     3.0  Dangerous Minds (1995)\n",
       "5      39       31     3.0  Dangerous Minds (1995)\n",
       "6      73       31     3.5  Dangerous Minds (1995)\n",
       "7      88       31     3.0  Dangerous Minds (1995)\n",
       "8      96       31     2.5  Dangerous Minds (1995)\n",
       "9     110       31     4.0  Dangerous Minds (1995)"
      ]
     },
     "execution_count": 10,
     "metadata": {},
     "output_type": "execute_result"
    }
   ],
   "source": [
    "columns = ['timestamp', 'genres']\n",
    "combine_movie_rating = combine_movie_rating.drop(columns, axis=1)\n",
    "combine_movie_rating.head(10)"
   ]
  },
  {
   "cell_type": "code",
   "execution_count": 11,
   "id": "3424cf7c",
   "metadata": {},
   "outputs": [],
   "source": [
    "movie_ratingCount = (combine_movie_rating.\n",
    "     groupby(by = ['title'])['rating'].\n",
    "     count().\n",
    "     reset_index().\n",
    "     rename(columns = {'rating': 'totalRatingCount'})\n",
    "     [['title', 'totalRatingCount']]\n",
    "    )"
   ]
  },
  {
   "cell_type": "code",
   "execution_count": 12,
   "id": "b567f937",
   "metadata": {},
   "outputs": [],
   "source": [
    "rating_with_totalRatingCount = combine_movie_rating.merge(movie_ratingCount, left_on = 'title', right_on = 'title', how = 'left')"
   ]
  },
  {
   "cell_type": "code",
   "execution_count": 13,
   "id": "9727f1d3",
   "metadata": {},
   "outputs": [],
   "source": [
    "user_rating = rating_with_totalRatingCount.drop_duplicates(['userId','title'])"
   ]
  },
  {
   "cell_type": "code",
   "execution_count": 14,
   "id": "2ee07aed",
   "metadata": {},
   "outputs": [],
   "source": [
    "movie_user_rating_pivot = user_rating.pivot(index = 'userId', columns = 'title', values = 'rating').fillna(0)"
   ]
  },
  {
   "cell_type": "code",
   "execution_count": 15,
   "id": "5cc92df6",
   "metadata": {},
   "outputs": [
    {
     "data": {
      "text/plain": [
       "(671, 9064)"
      ]
     },
     "execution_count": 15,
     "metadata": {},
     "output_type": "execute_result"
    }
   ],
   "source": [
    "X = movie_user_rating_pivot.values\n",
    "dim = movie_user_rating_pivot.shape\n",
    "dim"
   ]
  },
  {
   "cell_type": "code",
   "execution_count": 16,
   "id": "d779f49a",
   "metadata": {},
   "outputs": [],
   "source": [
    "objMF = demoMF.ExplicitMF(X,60,0.1,0.1,verbose=True)"
   ]
  },
  {
   "cell_type": "code",
   "execution_count": 17,
   "id": "7ff5d515",
   "metadata": {},
   "outputs": [
    {
     "name": "stdout",
     "output_type": "stream",
     "text": [
      "\tcurrent iteration: 10\n"
     ]
    }
   ],
   "source": [
    "objMF.train(10)"
   ]
  },
  {
   "cell_type": "code",
   "execution_count": 18,
   "id": "39f63b8d",
   "metadata": {},
   "outputs": [
    {
     "data": {
      "text/plain": [
       "(9064, 60)"
      ]
     },
     "execution_count": 18,
     "metadata": {},
     "output_type": "execute_result"
    }
   ],
   "source": [
    "U = objMF.user_vecs\n",
    "V = objMF.item_vecs\n",
    "V.shape"
   ]
  },
  {
   "cell_type": "code",
   "execution_count": null,
   "id": "e451e934",
   "metadata": {},
   "outputs": [],
   "source": []
  },
  {
   "cell_type": "code",
   "execution_count": 19,
   "id": "6c1ddb73",
   "metadata": {},
   "outputs": [
    {
     "data": {
      "text/plain": [
       "(9064, 9064)"
      ]
     },
     "execution_count": 19,
     "metadata": {},
     "output_type": "execute_result"
    }
   ],
   "source": [
    "matrix = V\n",
    "corr = np.corrcoef(matrix)\n",
    "corr.shape"
   ]
  },
  {
   "cell_type": "code",
   "execution_count": 20,
   "id": "984c893e",
   "metadata": {},
   "outputs": [],
   "source": [
    "movie_title = movie_user_rating_pivot.columns\n",
    "movie_title_list = list(movie_title)"
   ]
  },
  {
   "cell_type": "code",
   "execution_count": 21,
   "id": "2605f93f",
   "metadata": {},
   "outputs": [],
   "source": [
    "coffey_hands = movie_title_list.index(\"Monsters, Inc. (2001)\")"
   ]
  },
  {
   "cell_type": "code",
   "execution_count": 22,
   "id": "bc4599fa",
   "metadata": {},
   "outputs": [],
   "source": [
    "corr_coffey_hands  = corr[coffey_hands]\n",
    "#corr_coffey_hands[:10]"
   ]
  },
  {
   "cell_type": "code",
   "execution_count": 24,
   "id": "b2709fdf",
   "metadata": {},
   "outputs": [
    {
     "data": {
      "text/plain": [
       "['Toy Story 2 (1999)',\n",
       " 'Spider-Man (2002)',\n",
       " 'Shrek 2 (2004)',\n",
       " 'Shrek (2001)',\n",
       " 'Pirates of the Caribbean: The Curse of the Black Pearl (2003)',\n",
       " \"Ocean's Eleven (2001)\",\n",
       " 'Monsters, Inc. (2001)',\n",
       " 'Lord of the Rings: The Two Towers, The (2002)',\n",
       " 'Lord of the Rings: The Return of the King, The (2003)',\n",
       " 'Lord of the Rings: The Fellowship of the Ring, The (2001)',\n",
       " 'Incredibles, The (2004)',\n",
       " 'Finding Nemo (2003)',\n",
       " 'Chicken Run (2000)',\n",
       " 'Catch Me If You Can (2002)']"
      ]
     },
     "execution_count": 24,
     "metadata": {},
     "output_type": "execute_result"
    }
   ],
   "source": [
    "list(movie_title[(corr_coffey_hands >= 0.7)])[::-1]"
   ]
  },
  {
   "cell_type": "code",
   "execution_count": null,
   "id": "3fe7e848",
   "metadata": {},
   "outputs": [],
   "source": []
  },
  {
   "cell_type": "code",
   "execution_count": null,
   "id": "18fc0ff8",
   "metadata": {},
   "outputs": [],
   "source": []
  },
  {
   "cell_type": "code",
   "execution_count": null,
   "id": "0c1bb8ea",
   "metadata": {},
   "outputs": [],
   "source": []
  }
 ],
 "metadata": {
  "kernelspec": {
   "display_name": "Python 3 (ipykernel)",
   "language": "python",
   "name": "python3"
  },
  "language_info": {
   "codemirror_mode": {
    "name": "ipython",
    "version": 3
   },
   "file_extension": ".py",
   "mimetype": "text/x-python",
   "name": "python",
   "nbconvert_exporter": "python",
   "pygments_lexer": "ipython3",
   "version": "3.8.10"
  }
 },
 "nbformat": 4,
 "nbformat_minor": 5
}
